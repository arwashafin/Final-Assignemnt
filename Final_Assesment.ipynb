{
 "cells": [
  {
   "cell_type": "markdown",
   "id": "4020dd4d-2780-4dc8-9241-15ecb65790b3",
   "metadata": {},
   "source": [
    "<H1>My Jupyter Notebook on IBM Watson Studio</H1>"
   ]
  },
  {
   "cell_type": "markdown",
   "id": "51434330-fa64-4a8c-90e4-97f457243301",
   "metadata": {},
   "source": [
    "<p><strong> Arwa Arif </strong></p>\n",
    "<p>Software Engineer</p>"
   ]
  },
  {
   "cell_type": "markdown",
   "id": "7c055d36-663d-41a0-81ba-98afe526001c",
   "metadata": {},
   "source": [
    "<p><i>I am interested in data science because i would love to contribute towards efficient healthcare. I very much like to play with data.</i></p>"
   ]
  },
  {
   "cell_type": "markdown",
   "id": "b7f10bc0-67e6-4834-8122-794bf2de1d0e",
   "metadata": {},
   "source": [
    "<H3>This code will print 'Hello World'.</H3>"
   ]
  },
  {
   "cell_type": "code",
   "execution_count": 1,
   "id": "871d740f-0c23-4d27-a94c-979106f13b08",
   "metadata": {},
   "outputs": [
    {
     "name": "stdout",
     "output_type": "stream",
     "text": [
      "Hello World!\n"
     ]
    }
   ],
   "source": [
    "print(\"Hello World!\")"
   ]
  },
  {
   "cell_type": "markdown",
   "id": "97191dc1-8db1-4312-a8bd-2505fe4b1ecd",
   "metadata": {},
   "source": [
    "<b>This is a numbered list</b>"
   ]
  },
  {
   "cell_type": "markdown",
   "id": "9deef40b-ce82-4cf1-a89f-8e055b761c5f",
   "metadata": {},
   "source": [
    "<ol><li>One</li>\n",
    "    <li>Two</li>\n",
    "    <li>Three</li>\n",
    "    <li>Four</li>\n",
    "</ol>"
   ]
  },
  {
   "cell_type": "markdown",
   "id": "a05dbb93-4631-415f-8f93-e60483e0b735",
   "metadata": {},
   "source": [
    "<b>This is a Table</b>"
   ]
  },
  {
   "cell_type": "markdown",
   "id": "2de68e7d-0811-423f-9d0b-099d32e576ee",
   "metadata": {},
   "source": [
    "| Number | Words |\n",
    "| ------ | ------ |\n",
    "| 1 | One |\n",
    "| 2 | Two |\n",
    "| 3 | Three |\n",
    "| 4 | Four |"
   ]
  },
  {
   "cell_type": "markdown",
   "id": "44a6bcf7-92dc-4fd7-9e52-848306df0122",
   "metadata": {},
   "source": [
    "<b>This is a hyperlink</b>"
   ]
  },
  {
   "cell_type": "markdown",
   "id": "f4fc9f67-c600-4121-8c6d-abc3f54f16b3",
   "metadata": {},
   "source": [
    "<a href=\"https://dataplatform.cloud.ibm.com/gallery\">IBM Cloud Gallery</a> "
   ]
  }
 ],
 "metadata": {
  "kernelspec": {
   "display_name": "Python",
   "language": "python",
   "name": "conda-env-python-py"
  },
  "language_info": {
   "codemirror_mode": {
    "name": "ipython",
    "version": 3
   },
   "file_extension": ".py",
   "mimetype": "text/x-python",
   "name": "python",
   "nbconvert_exporter": "python",
   "pygments_lexer": "ipython3",
   "version": "3.7.12"
  }
 },
 "nbformat": 4,
 "nbformat_minor": 5
}
